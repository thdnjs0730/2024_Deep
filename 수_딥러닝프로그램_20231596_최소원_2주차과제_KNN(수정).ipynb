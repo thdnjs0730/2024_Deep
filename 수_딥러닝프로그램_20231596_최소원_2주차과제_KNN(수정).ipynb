{
  "nbformat": 4,
  "nbformat_minor": 0,
  "metadata": {
    "colab": {
      "provenance": [],
      "authorship_tag": "ABX9TyPk6KyhagDxh5aeW+K8oa6b",
      "include_colab_link": true
    },
    "kernelspec": {
      "name": "python3",
      "display_name": "Python 3"
    },
    "language_info": {
      "name": "python"
    }
  },
  "cells": [
    {
      "cell_type": "markdown",
      "metadata": {
        "id": "view-in-github",
        "colab_type": "text"
      },
      "source": [
        "<a href=\"https://colab.research.google.com/github/thdnjs0730/2024_Deep/blob/main/005_KNN_%EC%88%98%EC%A0%95.ipynb\" target=\"_parent\"><img src=\"https://colab.research.google.com/assets/colab-badge.svg\" alt=\"Open In Colab\"/></a>"
      ]
    },
    {
      "cell_type": "markdown",
      "source": [
        "## KNN: K - Nearest Neighbors\n",
        "\n",
        "### 강의 시간 결과\n",
        "- **최고**: 0.7\n",
        "- **최저**: 0.2\n",
        "\n",
        "### 목표\n",
        "- **0.9 이상**의 정확도 결과 내기\n",
        "\n",
        "### 해결 방안\n",
        "\n",
        "#### 1. 적절한 k 값 찾기\n",
        "\n",
        "- KNN은 가장 가까운 **k개**의 이웃을 참고\n",
        "- k의 값이 너무 작거나 클 경우:\n",
        "  - **과소적합** 또는 **과대적합**의 위험 존재\n",
        "\n",
        "- **폴드 교차 검증**:\n",
        "  - 훈련 데이터를 **n개의 폴드**로 나누어 교차 검증 수행 후, 최적의 k값 결정\n",
        "\n",
        "#### 2. 정규화 및 차원 축소\n",
        "\n",
        "- 주로 사용하는 정규화 방법:\n",
        "  - **StandardScaler**: 데이터의 표준화\n",
        "  - **MinMaxScaler**: 데이터를 정규화\n",
        "  \n",
        "- 이번 작업에서는 **MinMaxScaler**를 사용해 정규화 진행\n",
        "\n",
        "- 차원 축소의 이유\n",
        "  - **노이즈 제거**: 데이터에서 의미 없는 정보 제거\n",
        "  - **모델 효율성 향상**: 계산 속도 및 성능 개선\n",
        "\n",
        "- **PCA**(주성분 분석)를 활용해 차원 축소 진행\n",
        "\n",
        "#### 3. 다양한 거리 측정 방법 적용\n",
        "\n",
        "- KNN의 기본 거리 측정 방법은 **유클리드 거리**\n",
        "- 상황에 따라 **metric** 파라미터를 설정해 다양한 거리 측정 방법 사용 가능:\n",
        "  - **맨해튼 거리**\n",
        "  - **민코우스키 거리**\n",
        "  - **치비셰프 거리**\n",
        "\n",
        "- 데이터의 특성에 따라 적합한 측정 방법을 선택해 모델 성능 개선\n",
        "\n",
        "#### 결과\n",
        "\n",
        "- 여러 방법을 사용해 최종 작성한 코드\n",
        "  - 두 가지 방법으로 정규화 후, 최적의 방법 선택\n",
        "  - PCA로 차원 축소\n",
        "  - 최적의 k 값 찾기\n",
        "  - 여러 가지 거리 측정 방법 비교\n",
        "\n",
        "- 여러 방법을 사용해 진행 시, 단점\n",
        "  - 계산 비용의 증가\n"
      ],
      "metadata": {
        "id": "w3dhYmaRapcF"
      }
    },
    {
      "cell_type": "markdown",
      "source": [
        "#### 강의 시간 결과"
      ],
      "metadata": {
        "id": "N63-bKpvaglc"
      }
    },
    {
      "cell_type": "code",
      "execution_count": 1,
      "metadata": {
        "id": "xH8G5Z7XFNs5"
      },
      "outputs": [],
      "source": [
        "# library & data\n",
        "import numpy as np # 연산 처리\n",
        "from sklearn import metrics # 평가\n",
        "import matplotlib.pyplot as plt # 시각화\n",
        "import pandas as pd # 데이터 조작"
      ]
    },
    {
      "cell_type": "code",
      "source": [
        "# column(feature, attribute...) of dataset\n",
        "# names = ['sepal-lenght', 'sepal-width', 'petal-length', 'petal-width', 'Class']\n",
        "dataset = pd.read_csv('/content/dmu_data/iris.csv') # 데이터셋의 열 이름 설정 (, names=names)\n",
        "\n",
        "X = dataset.iloc[:, :-1].values # 열을 뒤에서 하나를 뺀 값을 가져와 X에 저장, 종속 변수 저장\n",
        "y = dataset.iloc[:, 4].values  # 열을 앞에서 다섯 번째 값만 가져와서 y에 저장\n",
        "\n",
        "# 데이터셋 분리\n",
        "from sklearn.model_selection import train_test_split\n",
        "X_train, X_test, y_train, y_test = train_test_split(X, y, test_size=0.20)"
      ],
      "metadata": {
        "id": "g7D0kpS1aHxD"
      },
      "execution_count": 2,
      "outputs": []
    },
    {
      "cell_type": "code",
      "source": [
        "# 데이터 정규화\n",
        "from sklearn.preprocessing import StandardScaler\n",
        "s = StandardScaler()\n",
        "\n",
        "X_train = s.fit_transform(X_train)\n",
        "\n",
        "X_train = s.transform(X_train)\n",
        "X_test = s.transform(X_test)\n",
        "\n",
        "# KNN 모델 생성 및 훈련\n",
        "from sklearn.neighbors import KNeighborsClassifier\n",
        "knn = KNeighborsClassifier(n_neighbors=50)\n",
        "knn.fit(X_train, y_train)\n"
      ],
      "metadata": {
        "colab": {
          "base_uri": "https://localhost:8080/",
          "height": 74
        },
        "id": "a-WYr19IdI5_",
        "outputId": "8812e178-bfe2-4fd3-d4e1-2c044b5dcf66"
      },
      "execution_count": 3,
      "outputs": [
        {
          "output_type": "execute_result",
          "data": {
            "text/plain": [
              "KNeighborsClassifier(n_neighbors=50)"
            ],
            "text/html": [
              "<style>#sk-container-id-1 {color: black;}#sk-container-id-1 pre{padding: 0;}#sk-container-id-1 div.sk-toggleable {background-color: white;}#sk-container-id-1 label.sk-toggleable__label {cursor: pointer;display: block;width: 100%;margin-bottom: 0;padding: 0.3em;box-sizing: border-box;text-align: center;}#sk-container-id-1 label.sk-toggleable__label-arrow:before {content: \"▸\";float: left;margin-right: 0.25em;color: #696969;}#sk-container-id-1 label.sk-toggleable__label-arrow:hover:before {color: black;}#sk-container-id-1 div.sk-estimator:hover label.sk-toggleable__label-arrow:before {color: black;}#sk-container-id-1 div.sk-toggleable__content {max-height: 0;max-width: 0;overflow: hidden;text-align: left;background-color: #f0f8ff;}#sk-container-id-1 div.sk-toggleable__content pre {margin: 0.2em;color: black;border-radius: 0.25em;background-color: #f0f8ff;}#sk-container-id-1 input.sk-toggleable__control:checked~div.sk-toggleable__content {max-height: 200px;max-width: 100%;overflow: auto;}#sk-container-id-1 input.sk-toggleable__control:checked~label.sk-toggleable__label-arrow:before {content: \"▾\";}#sk-container-id-1 div.sk-estimator input.sk-toggleable__control:checked~label.sk-toggleable__label {background-color: #d4ebff;}#sk-container-id-1 div.sk-label input.sk-toggleable__control:checked~label.sk-toggleable__label {background-color: #d4ebff;}#sk-container-id-1 input.sk-hidden--visually {border: 0;clip: rect(1px 1px 1px 1px);clip: rect(1px, 1px, 1px, 1px);height: 1px;margin: -1px;overflow: hidden;padding: 0;position: absolute;width: 1px;}#sk-container-id-1 div.sk-estimator {font-family: monospace;background-color: #f0f8ff;border: 1px dotted black;border-radius: 0.25em;box-sizing: border-box;margin-bottom: 0.5em;}#sk-container-id-1 div.sk-estimator:hover {background-color: #d4ebff;}#sk-container-id-1 div.sk-parallel-item::after {content: \"\";width: 100%;border-bottom: 1px solid gray;flex-grow: 1;}#sk-container-id-1 div.sk-label:hover label.sk-toggleable__label {background-color: #d4ebff;}#sk-container-id-1 div.sk-serial::before {content: \"\";position: absolute;border-left: 1px solid gray;box-sizing: border-box;top: 0;bottom: 0;left: 50%;z-index: 0;}#sk-container-id-1 div.sk-serial {display: flex;flex-direction: column;align-items: center;background-color: white;padding-right: 0.2em;padding-left: 0.2em;position: relative;}#sk-container-id-1 div.sk-item {position: relative;z-index: 1;}#sk-container-id-1 div.sk-parallel {display: flex;align-items: stretch;justify-content: center;background-color: white;position: relative;}#sk-container-id-1 div.sk-item::before, #sk-container-id-1 div.sk-parallel-item::before {content: \"\";position: absolute;border-left: 1px solid gray;box-sizing: border-box;top: 0;bottom: 0;left: 50%;z-index: -1;}#sk-container-id-1 div.sk-parallel-item {display: flex;flex-direction: column;z-index: 1;position: relative;background-color: white;}#sk-container-id-1 div.sk-parallel-item:first-child::after {align-self: flex-end;width: 50%;}#sk-container-id-1 div.sk-parallel-item:last-child::after {align-self: flex-start;width: 50%;}#sk-container-id-1 div.sk-parallel-item:only-child::after {width: 0;}#sk-container-id-1 div.sk-dashed-wrapped {border: 1px dashed gray;margin: 0 0.4em 0.5em 0.4em;box-sizing: border-box;padding-bottom: 0.4em;background-color: white;}#sk-container-id-1 div.sk-label label {font-family: monospace;font-weight: bold;display: inline-block;line-height: 1.2em;}#sk-container-id-1 div.sk-label-container {text-align: center;}#sk-container-id-1 div.sk-container {/* jupyter's `normalize.less` sets `[hidden] { display: none; }` but bootstrap.min.css set `[hidden] { display: none !important; }` so we also need the `!important` here to be able to override the default hidden behavior on the sphinx rendered scikit-learn.org. See: https://github.com/scikit-learn/scikit-learn/issues/21755 */display: inline-block !important;position: relative;}#sk-container-id-1 div.sk-text-repr-fallback {display: none;}</style><div id=\"sk-container-id-1\" class=\"sk-top-container\"><div class=\"sk-text-repr-fallback\"><pre>KNeighborsClassifier(n_neighbors=50)</pre><b>In a Jupyter environment, please rerun this cell to show the HTML representation or trust the notebook. <br />On GitHub, the HTML representation is unable to render, please try loading this page with nbviewer.org.</b></div><div class=\"sk-container\" hidden><div class=\"sk-item\"><div class=\"sk-estimator sk-toggleable\"><input class=\"sk-toggleable__control sk-hidden--visually\" id=\"sk-estimator-id-1\" type=\"checkbox\" checked><label for=\"sk-estimator-id-1\" class=\"sk-toggleable__label sk-toggleable__label-arrow\">KNeighborsClassifier</label><div class=\"sk-toggleable__content\"><pre>KNeighborsClassifier(n_neighbors=50)</pre></div></div></div></div></div>"
            ]
          },
          "metadata": {},
          "execution_count": 3
        }
      ]
    },
    {
      "cell_type": "code",
      "source": [
        "# model accuracy\n",
        "from sklearn.metrics import accuracy_score\n",
        "y_pred = knn.predict(X_test)\n",
        "print(\"정확도: {}\".format(accuracy_score(y_test, y_pred)))"
      ],
      "metadata": {
        "colab": {
          "base_uri": "https://localhost:8080/"
        },
        "id": "PAiZPWxMgooN",
        "outputId": "90b9607b-0ad3-499a-adec-9f3af990e2b8"
      },
      "execution_count": 4,
      "outputs": [
        {
          "output_type": "stream",
          "name": "stdout",
          "text": [
            "정확도: 0.26666666666666666\n"
          ]
        }
      ]
    },
    {
      "cell_type": "markdown",
      "source": [
        "#### 방법 1. 적절한 k 값 찾기\n",
        "\n",
        "\n",
        "\n",
        "\n"
      ],
      "metadata": {
        "id": "Z8BpLKMgbU4P"
      }
    },
    {
      "cell_type": "code",
      "source": [
        "# library & data\n",
        "import numpy as np # 연산 처리\n",
        "from sklearn import metrics # 평가\n",
        "import matplotlib.pyplot as plt # 시각화\n",
        "import pandas as pd # 데이터 조작"
      ],
      "metadata": {
        "id": "s9QsPxH4bcV1"
      },
      "execution_count": 5,
      "outputs": []
    },
    {
      "cell_type": "code",
      "source": [
        "# column(feature, attribute...) of dataset\n",
        "# names = ['sepal-lenght', 'sepal-width', 'petal-length', 'petal-width', 'Class']\n",
        "dataset = pd.read_csv('/content/dmu_data/iris.csv') # 데이터셋의 열 이름 설정 (, names=names)\n",
        "\n",
        "X = dataset.iloc[:, :-1].values # 열을 뒤에서 하나를 뺀 값을 가져와 X에 저장, 종속 변수 저장\n",
        "y = dataset.iloc[:, 4].values  # 열을 앞에서 다섯 번째 값만 가져와서 y에 저장\n",
        "\n",
        "# 데이터셋 분리\n",
        "from sklearn.model_selection import train_test_split\n",
        "X_train, X_test, y_train, y_test = train_test_split(X, y, test_size=0.20)"
      ],
      "metadata": {
        "id": "dkmuWafubjIy"
      },
      "execution_count": 6,
      "outputs": []
    },
    {
      "cell_type": "code",
      "source": [
        "# 데이터 정규화\n",
        "s = StandardScaler()\n",
        "x_train = s.fit_transform(X_train)\n",
        "x_test = s.transform(X_test)\n",
        "\n",
        "# 교차 검증\n",
        "from sklearn.model_selection import cross_val_score\n",
        "\n",
        "k_values = [1, 5, 10, 20, 30, 50, 70]\n",
        "best_k = 0\n",
        "best_score = 0\n",
        "\n",
        "for k in k_values:\n",
        "    knn = KNeighborsClassifier(n_neighbors=k)\n",
        "    scores = cross_val_score(knn, x_train, y_train, cv=5) # 다섯 개의 폴드로 나눔\n",
        "    mean_score = scores.mean()\n",
        "    print(f\"k={k}일 때의 교차 검증 평균 정확도: {mean_score:.4f}\")\n",
        "\n",
        "    # 가장 높은 정확도를 기록한 k 값\n",
        "    if mean_score > best_score:\n",
        "        best_score = mean_score\n",
        "        best_k = k\n",
        "\n",
        "print(f\"최적의 k 값: {best_k}, 교차 검증 정확도: {best_score:.4f}\")"
      ],
      "metadata": {
        "colab": {
          "base_uri": "https://localhost:8080/"
        },
        "id": "ehLNY0Ncblzs",
        "outputId": "268160ce-199a-49eb-f75d-2826a4e28667"
      },
      "execution_count": 7,
      "outputs": [
        {
          "output_type": "stream",
          "name": "stdout",
          "text": [
            "k=1일 때의 교차 검증 평균 정확도: 0.9583\n",
            "k=5일 때의 교차 검증 평균 정확도: 0.9583\n",
            "k=10일 때의 교차 검증 평균 정확도: 0.9583\n",
            "k=20일 때의 교차 검증 평균 정확도: 0.9333\n",
            "k=30일 때의 교차 검증 평균 정확도: 0.9083\n",
            "k=50일 때의 교차 검증 평균 정확도: 0.8500\n",
            "k=70일 때의 교차 검증 평균 정확도: 0.4833\n",
            "최적의 k 값: 1, 교차 검증 정확도: 0.9583\n"
          ]
        }
      ]
    },
    {
      "cell_type": "code",
      "source": [
        "# KNN 모델 생성 및 훈련\n",
        "from sklearn.neighbors import KNeighborsClassifier\n",
        "knn = KNeighborsClassifier(n_neighbors=best_k)\n",
        "knn.fit(X_train, y_train)"
      ],
      "metadata": {
        "colab": {
          "base_uri": "https://localhost:8080/",
          "height": 74
        },
        "id": "SqGNkvedhlGj",
        "outputId": "5fe71496-ee47-4397-b06a-1bc47e775693"
      },
      "execution_count": 8,
      "outputs": [
        {
          "output_type": "execute_result",
          "data": {
            "text/plain": [
              "KNeighborsClassifier(n_neighbors=1)"
            ],
            "text/html": [
              "<style>#sk-container-id-2 {color: black;}#sk-container-id-2 pre{padding: 0;}#sk-container-id-2 div.sk-toggleable {background-color: white;}#sk-container-id-2 label.sk-toggleable__label {cursor: pointer;display: block;width: 100%;margin-bottom: 0;padding: 0.3em;box-sizing: border-box;text-align: center;}#sk-container-id-2 label.sk-toggleable__label-arrow:before {content: \"▸\";float: left;margin-right: 0.25em;color: #696969;}#sk-container-id-2 label.sk-toggleable__label-arrow:hover:before {color: black;}#sk-container-id-2 div.sk-estimator:hover label.sk-toggleable__label-arrow:before {color: black;}#sk-container-id-2 div.sk-toggleable__content {max-height: 0;max-width: 0;overflow: hidden;text-align: left;background-color: #f0f8ff;}#sk-container-id-2 div.sk-toggleable__content pre {margin: 0.2em;color: black;border-radius: 0.25em;background-color: #f0f8ff;}#sk-container-id-2 input.sk-toggleable__control:checked~div.sk-toggleable__content {max-height: 200px;max-width: 100%;overflow: auto;}#sk-container-id-2 input.sk-toggleable__control:checked~label.sk-toggleable__label-arrow:before {content: \"▾\";}#sk-container-id-2 div.sk-estimator input.sk-toggleable__control:checked~label.sk-toggleable__label {background-color: #d4ebff;}#sk-container-id-2 div.sk-label input.sk-toggleable__control:checked~label.sk-toggleable__label {background-color: #d4ebff;}#sk-container-id-2 input.sk-hidden--visually {border: 0;clip: rect(1px 1px 1px 1px);clip: rect(1px, 1px, 1px, 1px);height: 1px;margin: -1px;overflow: hidden;padding: 0;position: absolute;width: 1px;}#sk-container-id-2 div.sk-estimator {font-family: monospace;background-color: #f0f8ff;border: 1px dotted black;border-radius: 0.25em;box-sizing: border-box;margin-bottom: 0.5em;}#sk-container-id-2 div.sk-estimator:hover {background-color: #d4ebff;}#sk-container-id-2 div.sk-parallel-item::after {content: \"\";width: 100%;border-bottom: 1px solid gray;flex-grow: 1;}#sk-container-id-2 div.sk-label:hover label.sk-toggleable__label {background-color: #d4ebff;}#sk-container-id-2 div.sk-serial::before {content: \"\";position: absolute;border-left: 1px solid gray;box-sizing: border-box;top: 0;bottom: 0;left: 50%;z-index: 0;}#sk-container-id-2 div.sk-serial {display: flex;flex-direction: column;align-items: center;background-color: white;padding-right: 0.2em;padding-left: 0.2em;position: relative;}#sk-container-id-2 div.sk-item {position: relative;z-index: 1;}#sk-container-id-2 div.sk-parallel {display: flex;align-items: stretch;justify-content: center;background-color: white;position: relative;}#sk-container-id-2 div.sk-item::before, #sk-container-id-2 div.sk-parallel-item::before {content: \"\";position: absolute;border-left: 1px solid gray;box-sizing: border-box;top: 0;bottom: 0;left: 50%;z-index: -1;}#sk-container-id-2 div.sk-parallel-item {display: flex;flex-direction: column;z-index: 1;position: relative;background-color: white;}#sk-container-id-2 div.sk-parallel-item:first-child::after {align-self: flex-end;width: 50%;}#sk-container-id-2 div.sk-parallel-item:last-child::after {align-self: flex-start;width: 50%;}#sk-container-id-2 div.sk-parallel-item:only-child::after {width: 0;}#sk-container-id-2 div.sk-dashed-wrapped {border: 1px dashed gray;margin: 0 0.4em 0.5em 0.4em;box-sizing: border-box;padding-bottom: 0.4em;background-color: white;}#sk-container-id-2 div.sk-label label {font-family: monospace;font-weight: bold;display: inline-block;line-height: 1.2em;}#sk-container-id-2 div.sk-label-container {text-align: center;}#sk-container-id-2 div.sk-container {/* jupyter's `normalize.less` sets `[hidden] { display: none; }` but bootstrap.min.css set `[hidden] { display: none !important; }` so we also need the `!important` here to be able to override the default hidden behavior on the sphinx rendered scikit-learn.org. See: https://github.com/scikit-learn/scikit-learn/issues/21755 */display: inline-block !important;position: relative;}#sk-container-id-2 div.sk-text-repr-fallback {display: none;}</style><div id=\"sk-container-id-2\" class=\"sk-top-container\"><div class=\"sk-text-repr-fallback\"><pre>KNeighborsClassifier(n_neighbors=1)</pre><b>In a Jupyter environment, please rerun this cell to show the HTML representation or trust the notebook. <br />On GitHub, the HTML representation is unable to render, please try loading this page with nbviewer.org.</b></div><div class=\"sk-container\" hidden><div class=\"sk-item\"><div class=\"sk-estimator sk-toggleable\"><input class=\"sk-toggleable__control sk-hidden--visually\" id=\"sk-estimator-id-2\" type=\"checkbox\" checked><label for=\"sk-estimator-id-2\" class=\"sk-toggleable__label sk-toggleable__label-arrow\">KNeighborsClassifier</label><div class=\"sk-toggleable__content\"><pre>KNeighborsClassifier(n_neighbors=1)</pre></div></div></div></div></div>"
            ]
          },
          "metadata": {},
          "execution_count": 8
        }
      ]
    },
    {
      "cell_type": "code",
      "source": [
        "# model accuracy\n",
        "from sklearn.metrics import accuracy_score\n",
        "y_pred = knn.predict(X_test)\n",
        "print(\"정확도: {}\".format(accuracy_score(y_test, y_pred)))\n"
      ],
      "metadata": {
        "colab": {
          "base_uri": "https://localhost:8080/"
        },
        "id": "CemNq4bjh8du",
        "outputId": "32118cf8-706e-48e3-d7f3-69ee1c1df6aa"
      },
      "execution_count": 9,
      "outputs": [
        {
          "output_type": "stream",
          "name": "stdout",
          "text": [
            "정확도: 1.0\n"
          ]
        }
      ]
    },
    {
      "cell_type": "markdown",
      "source": [
        "#### 방법 2. 정규화 및 차원 축소"
      ],
      "metadata": {
        "id": "aUcGSrd6o4Tg"
      }
    },
    {
      "cell_type": "code",
      "source": [
        "# library & data\n",
        "import numpy as np # 연산 처리\n",
        "from sklearn import metrics # 평가\n",
        "import matplotlib.pyplot as plt # 시각화\n",
        "import pandas as pd # 데이터 조작"
      ],
      "metadata": {
        "id": "9FIT4cP8pABg"
      },
      "execution_count": 10,
      "outputs": []
    },
    {
      "cell_type": "code",
      "source": [
        "# column(feature, attribute...) of dataset\n",
        "# names = ['sepal-lenght', 'sepal-width', 'petal-length', 'petal-width', 'Class']\n",
        "dataset = pd.read_csv('/content/dmu_data/iris.csv') # 데이터셋의 열 이름 설정 (, names=names)\n",
        "\n",
        "X = dataset.iloc[:, :-1].values # 열을 뒤에서 하나를 뺀 값을 가져와 X에 저장, 종속 변수 저장\n",
        "y = dataset.iloc[:, 4].values  # 열을 앞에서 다섯 번째 값만 가져와서 y에 저장\n",
        "\n",
        "# 데이터셋 분리\n",
        "from sklearn.model_selection import train_test_split\n",
        "X_train, X_test, y_train, y_test = train_test_split(X, y, test_size=0.20)"
      ],
      "metadata": {
        "id": "S82eDSz0pJOv"
      },
      "execution_count": 11,
      "outputs": []
    },
    {
      "cell_type": "code",
      "source": [
        "# MinMaxScaler를 사용한 정규화\n",
        "from sklearn.preprocessing import MinMaxScaler\n",
        "scaler = MinMaxScaler()\n",
        "X_train = scaler.fit_transform(X_train)\n",
        "X_test = scaler.transform(X_test)\n",
        "\n",
        "# PCA를 사용한 차원 축소\n",
        "from sklearn.decomposition import PCA\n",
        "pca = PCA(n_components=2)  # 차원을 2로 축소\n",
        "X_train = pca.fit_transform(X_train)\n",
        "X_test = pca.transform(X_test)"
      ],
      "metadata": {
        "id": "v_bJbqQSpK_4"
      },
      "execution_count": 12,
      "outputs": []
    },
    {
      "cell_type": "code",
      "source": [
        "# KNN 모델 생성 및 훈련\n",
        "from sklearn.neighbors import KNeighborsClassifier\n",
        "knn = KNeighborsClassifier(n_neighbors=10)\n",
        "knn.fit(X_train, y_train)"
      ],
      "metadata": {
        "colab": {
          "base_uri": "https://localhost:8080/",
          "height": 74
        },
        "id": "IC6T1LBZpvku",
        "outputId": "7cc59343-92eb-44b0-a4fe-f4c4237ea467"
      },
      "execution_count": 13,
      "outputs": [
        {
          "output_type": "execute_result",
          "data": {
            "text/plain": [
              "KNeighborsClassifier(n_neighbors=10)"
            ],
            "text/html": [
              "<style>#sk-container-id-3 {color: black;}#sk-container-id-3 pre{padding: 0;}#sk-container-id-3 div.sk-toggleable {background-color: white;}#sk-container-id-3 label.sk-toggleable__label {cursor: pointer;display: block;width: 100%;margin-bottom: 0;padding: 0.3em;box-sizing: border-box;text-align: center;}#sk-container-id-3 label.sk-toggleable__label-arrow:before {content: \"▸\";float: left;margin-right: 0.25em;color: #696969;}#sk-container-id-3 label.sk-toggleable__label-arrow:hover:before {color: black;}#sk-container-id-3 div.sk-estimator:hover label.sk-toggleable__label-arrow:before {color: black;}#sk-container-id-3 div.sk-toggleable__content {max-height: 0;max-width: 0;overflow: hidden;text-align: left;background-color: #f0f8ff;}#sk-container-id-3 div.sk-toggleable__content pre {margin: 0.2em;color: black;border-radius: 0.25em;background-color: #f0f8ff;}#sk-container-id-3 input.sk-toggleable__control:checked~div.sk-toggleable__content {max-height: 200px;max-width: 100%;overflow: auto;}#sk-container-id-3 input.sk-toggleable__control:checked~label.sk-toggleable__label-arrow:before {content: \"▾\";}#sk-container-id-3 div.sk-estimator input.sk-toggleable__control:checked~label.sk-toggleable__label {background-color: #d4ebff;}#sk-container-id-3 div.sk-label input.sk-toggleable__control:checked~label.sk-toggleable__label {background-color: #d4ebff;}#sk-container-id-3 input.sk-hidden--visually {border: 0;clip: rect(1px 1px 1px 1px);clip: rect(1px, 1px, 1px, 1px);height: 1px;margin: -1px;overflow: hidden;padding: 0;position: absolute;width: 1px;}#sk-container-id-3 div.sk-estimator {font-family: monospace;background-color: #f0f8ff;border: 1px dotted black;border-radius: 0.25em;box-sizing: border-box;margin-bottom: 0.5em;}#sk-container-id-3 div.sk-estimator:hover {background-color: #d4ebff;}#sk-container-id-3 div.sk-parallel-item::after {content: \"\";width: 100%;border-bottom: 1px solid gray;flex-grow: 1;}#sk-container-id-3 div.sk-label:hover label.sk-toggleable__label {background-color: #d4ebff;}#sk-container-id-3 div.sk-serial::before {content: \"\";position: absolute;border-left: 1px solid gray;box-sizing: border-box;top: 0;bottom: 0;left: 50%;z-index: 0;}#sk-container-id-3 div.sk-serial {display: flex;flex-direction: column;align-items: center;background-color: white;padding-right: 0.2em;padding-left: 0.2em;position: relative;}#sk-container-id-3 div.sk-item {position: relative;z-index: 1;}#sk-container-id-3 div.sk-parallel {display: flex;align-items: stretch;justify-content: center;background-color: white;position: relative;}#sk-container-id-3 div.sk-item::before, #sk-container-id-3 div.sk-parallel-item::before {content: \"\";position: absolute;border-left: 1px solid gray;box-sizing: border-box;top: 0;bottom: 0;left: 50%;z-index: -1;}#sk-container-id-3 div.sk-parallel-item {display: flex;flex-direction: column;z-index: 1;position: relative;background-color: white;}#sk-container-id-3 div.sk-parallel-item:first-child::after {align-self: flex-end;width: 50%;}#sk-container-id-3 div.sk-parallel-item:last-child::after {align-self: flex-start;width: 50%;}#sk-container-id-3 div.sk-parallel-item:only-child::after {width: 0;}#sk-container-id-3 div.sk-dashed-wrapped {border: 1px dashed gray;margin: 0 0.4em 0.5em 0.4em;box-sizing: border-box;padding-bottom: 0.4em;background-color: white;}#sk-container-id-3 div.sk-label label {font-family: monospace;font-weight: bold;display: inline-block;line-height: 1.2em;}#sk-container-id-3 div.sk-label-container {text-align: center;}#sk-container-id-3 div.sk-container {/* jupyter's `normalize.less` sets `[hidden] { display: none; }` but bootstrap.min.css set `[hidden] { display: none !important; }` so we also need the `!important` here to be able to override the default hidden behavior on the sphinx rendered scikit-learn.org. See: https://github.com/scikit-learn/scikit-learn/issues/21755 */display: inline-block !important;position: relative;}#sk-container-id-3 div.sk-text-repr-fallback {display: none;}</style><div id=\"sk-container-id-3\" class=\"sk-top-container\"><div class=\"sk-text-repr-fallback\"><pre>KNeighborsClassifier(n_neighbors=10)</pre><b>In a Jupyter environment, please rerun this cell to show the HTML representation or trust the notebook. <br />On GitHub, the HTML representation is unable to render, please try loading this page with nbviewer.org.</b></div><div class=\"sk-container\" hidden><div class=\"sk-item\"><div class=\"sk-estimator sk-toggleable\"><input class=\"sk-toggleable__control sk-hidden--visually\" id=\"sk-estimator-id-3\" type=\"checkbox\" checked><label for=\"sk-estimator-id-3\" class=\"sk-toggleable__label sk-toggleable__label-arrow\">KNeighborsClassifier</label><div class=\"sk-toggleable__content\"><pre>KNeighborsClassifier(n_neighbors=10)</pre></div></div></div></div></div>"
            ]
          },
          "metadata": {},
          "execution_count": 13
        }
      ]
    },
    {
      "cell_type": "code",
      "source": [
        "# 테스트 세트에서 예측 및 정확도 계산\n",
        "from sklearn.metrics import accuracy_score\n",
        "y_pred = knn.predict(X_test)\n",
        "print(\"정확도: {}\".format(accuracy_score(y_test, y_pred)))"
      ],
      "metadata": {
        "colab": {
          "base_uri": "https://localhost:8080/"
        },
        "id": "AiBZ65Lysxlc",
        "outputId": "a016ad1c-37fb-4738-ac95-b0d3a68ca631"
      },
      "execution_count": 14,
      "outputs": [
        {
          "output_type": "stream",
          "name": "stdout",
          "text": [
            "정확도: 1.0\n"
          ]
        }
      ]
    },
    {
      "cell_type": "markdown",
      "source": [
        "#### 방법 3. 다양한 거리 측정 방법 적용"
      ],
      "metadata": {
        "id": "yBgtevtlsmFz"
      }
    },
    {
      "cell_type": "code",
      "source": [
        "# library & data\n",
        "import numpy as np # 연산 처리\n",
        "from sklearn import metrics # 평가\n",
        "import matplotlib.pyplot as plt # 시각화\n",
        "import pandas as pd # 데이터 조작"
      ],
      "metadata": {
        "id": "1vwN1HX8pxUD"
      },
      "execution_count": 15,
      "outputs": []
    },
    {
      "cell_type": "code",
      "source": [
        "# column(feature, attribute...) of dataset\n",
        "# names = ['sepal-lenght', 'sepal-width', 'petal-length', 'petal-width', 'Class']\n",
        "dataset = pd.read_csv('/content/dmu_data/iris.csv') # 데이터셋의 열 이름 설정 (, names=names)\n",
        "\n",
        "X = dataset.iloc[:, :-1].values # 열을 뒤에서 하나를 뺀 값을 가져와 X에 저장, 종속 변수 저장\n",
        "y = dataset.iloc[:, 4].values  # 열을 앞에서 다섯 번째 값만 가져와서 y에 저장\n",
        "\n",
        "# 데이터셋 분리\n",
        "from sklearn.model_selection import train_test_split\n",
        "X_train, X_test, y_train, y_test = train_test_split(X, y, test_size=0.20)"
      ],
      "metadata": {
        "id": "JAtQFW0ntUDP"
      },
      "execution_count": 16,
      "outputs": []
    },
    {
      "cell_type": "code",
      "source": [
        "# 데이터 정규화\n",
        "scaler = StandardScaler()\n",
        "X_train = scaler.fit_transform(X_train)\n",
        "X_test = scaler.transform(X_test)"
      ],
      "metadata": {
        "id": "zPAVFovOtbul"
      },
      "execution_count": 17,
      "outputs": []
    },
    {
      "cell_type": "code",
      "source": [
        "# KNN 모델 생성 및 훈련\n",
        "from sklearn.neighbors import KNeighborsClassifier\n",
        "\n",
        "# 유클리드 거리 (기본)\n",
        "knn_euclidean = KNeighborsClassifier(n_neighbors=10, metric='euclidean')\n",
        "knn_euclidean.fit(X_train, y_train)\n",
        "\n",
        "# 맨해튼 거리\n",
        "knn_manhattan = KNeighborsClassifier(n_neighbors=10, metric='manhattan')\n",
        "knn_manhattan.fit(X_train, y_train)\n",
        "\n",
        "# 민코우스키 거리 (p=3)\n",
        "knn_minkowski = KNeighborsClassifier(n_neighbors=10, metric='minkowski', p=3)\n",
        "knn_minkowski.fit(X_train, y_train)\n",
        "\n",
        "# 치비셰프 거리\n",
        "knn_chebyshev = KNeighborsClassifier(n_neighbors=10, metric='chebyshev')\n",
        "knn_chebyshev.fit(X_train, y_train)\n"
      ],
      "metadata": {
        "colab": {
          "base_uri": "https://localhost:8080/",
          "height": 74
        },
        "id": "uDvIqXp5tnq9",
        "outputId": "d214787e-89fe-4546-bf44-ebf0ea537dad"
      },
      "execution_count": 18,
      "outputs": [
        {
          "output_type": "execute_result",
          "data": {
            "text/plain": [
              "KNeighborsClassifier(metric='chebyshev', n_neighbors=10)"
            ],
            "text/html": [
              "<style>#sk-container-id-4 {color: black;}#sk-container-id-4 pre{padding: 0;}#sk-container-id-4 div.sk-toggleable {background-color: white;}#sk-container-id-4 label.sk-toggleable__label {cursor: pointer;display: block;width: 100%;margin-bottom: 0;padding: 0.3em;box-sizing: border-box;text-align: center;}#sk-container-id-4 label.sk-toggleable__label-arrow:before {content: \"▸\";float: left;margin-right: 0.25em;color: #696969;}#sk-container-id-4 label.sk-toggleable__label-arrow:hover:before {color: black;}#sk-container-id-4 div.sk-estimator:hover label.sk-toggleable__label-arrow:before {color: black;}#sk-container-id-4 div.sk-toggleable__content {max-height: 0;max-width: 0;overflow: hidden;text-align: left;background-color: #f0f8ff;}#sk-container-id-4 div.sk-toggleable__content pre {margin: 0.2em;color: black;border-radius: 0.25em;background-color: #f0f8ff;}#sk-container-id-4 input.sk-toggleable__control:checked~div.sk-toggleable__content {max-height: 200px;max-width: 100%;overflow: auto;}#sk-container-id-4 input.sk-toggleable__control:checked~label.sk-toggleable__label-arrow:before {content: \"▾\";}#sk-container-id-4 div.sk-estimator input.sk-toggleable__control:checked~label.sk-toggleable__label {background-color: #d4ebff;}#sk-container-id-4 div.sk-label input.sk-toggleable__control:checked~label.sk-toggleable__label {background-color: #d4ebff;}#sk-container-id-4 input.sk-hidden--visually {border: 0;clip: rect(1px 1px 1px 1px);clip: rect(1px, 1px, 1px, 1px);height: 1px;margin: -1px;overflow: hidden;padding: 0;position: absolute;width: 1px;}#sk-container-id-4 div.sk-estimator {font-family: monospace;background-color: #f0f8ff;border: 1px dotted black;border-radius: 0.25em;box-sizing: border-box;margin-bottom: 0.5em;}#sk-container-id-4 div.sk-estimator:hover {background-color: #d4ebff;}#sk-container-id-4 div.sk-parallel-item::after {content: \"\";width: 100%;border-bottom: 1px solid gray;flex-grow: 1;}#sk-container-id-4 div.sk-label:hover label.sk-toggleable__label {background-color: #d4ebff;}#sk-container-id-4 div.sk-serial::before {content: \"\";position: absolute;border-left: 1px solid gray;box-sizing: border-box;top: 0;bottom: 0;left: 50%;z-index: 0;}#sk-container-id-4 div.sk-serial {display: flex;flex-direction: column;align-items: center;background-color: white;padding-right: 0.2em;padding-left: 0.2em;position: relative;}#sk-container-id-4 div.sk-item {position: relative;z-index: 1;}#sk-container-id-4 div.sk-parallel {display: flex;align-items: stretch;justify-content: center;background-color: white;position: relative;}#sk-container-id-4 div.sk-item::before, #sk-container-id-4 div.sk-parallel-item::before {content: \"\";position: absolute;border-left: 1px solid gray;box-sizing: border-box;top: 0;bottom: 0;left: 50%;z-index: -1;}#sk-container-id-4 div.sk-parallel-item {display: flex;flex-direction: column;z-index: 1;position: relative;background-color: white;}#sk-container-id-4 div.sk-parallel-item:first-child::after {align-self: flex-end;width: 50%;}#sk-container-id-4 div.sk-parallel-item:last-child::after {align-self: flex-start;width: 50%;}#sk-container-id-4 div.sk-parallel-item:only-child::after {width: 0;}#sk-container-id-4 div.sk-dashed-wrapped {border: 1px dashed gray;margin: 0 0.4em 0.5em 0.4em;box-sizing: border-box;padding-bottom: 0.4em;background-color: white;}#sk-container-id-4 div.sk-label label {font-family: monospace;font-weight: bold;display: inline-block;line-height: 1.2em;}#sk-container-id-4 div.sk-label-container {text-align: center;}#sk-container-id-4 div.sk-container {/* jupyter's `normalize.less` sets `[hidden] { display: none; }` but bootstrap.min.css set `[hidden] { display: none !important; }` so we also need the `!important` here to be able to override the default hidden behavior on the sphinx rendered scikit-learn.org. See: https://github.com/scikit-learn/scikit-learn/issues/21755 */display: inline-block !important;position: relative;}#sk-container-id-4 div.sk-text-repr-fallback {display: none;}</style><div id=\"sk-container-id-4\" class=\"sk-top-container\"><div class=\"sk-text-repr-fallback\"><pre>KNeighborsClassifier(metric=&#x27;chebyshev&#x27;, n_neighbors=10)</pre><b>In a Jupyter environment, please rerun this cell to show the HTML representation or trust the notebook. <br />On GitHub, the HTML representation is unable to render, please try loading this page with nbviewer.org.</b></div><div class=\"sk-container\" hidden><div class=\"sk-item\"><div class=\"sk-estimator sk-toggleable\"><input class=\"sk-toggleable__control sk-hidden--visually\" id=\"sk-estimator-id-4\" type=\"checkbox\" checked><label for=\"sk-estimator-id-4\" class=\"sk-toggleable__label sk-toggleable__label-arrow\">KNeighborsClassifier</label><div class=\"sk-toggleable__content\"><pre>KNeighborsClassifier(metric=&#x27;chebyshev&#x27;, n_neighbors=10)</pre></div></div></div></div></div>"
            ]
          },
          "metadata": {},
          "execution_count": 18
        }
      ]
    },
    {
      "cell_type": "code",
      "source": [
        "# 각 거리 측정 방법에 대해 예측 및 정확도 계산\n",
        "from sklearn.metrics import accuracy_score\n",
        "\n",
        "# 유클리드 거리 결과\n",
        "y_pred_euclidean = knn_euclidean.predict(X_test)\n",
        "euclidean_accuracy = accuracy_score(y_test, y_pred_euclidean)\n",
        "print(\"유클리드 거리 정확도: {}\".format(euclidean_accuracy))\n",
        "\n",
        "# 맨해튼 거리 결과\n",
        "y_pred_manhattan = knn_manhattan.predict(X_test)\n",
        "manhattan_accuracy = accuracy_score(y_test, y_pred_manhattan)\n",
        "print(\"맨해튼 거리 정확도: {}\".format(manhattan_accuracy))\n",
        "\n",
        "# 민코우스키 거리 결과 (p=3)\n",
        "y_pred_minkowski = knn_minkowski.predict(X_test)\n",
        "minkowski_accuracy = accuracy_score(y_test, y_pred_minkowski)\n",
        "print(\"민코우스키 거리 (p=3) 정확도: {}\".format(minkowski_accuracy))\n",
        "\n",
        "# 치비셰프 거리 결과\n",
        "y_pred_chebyshev = knn_chebyshev.predict(X_test)\n",
        "chebyshev_accuracy = accuracy_score(y_test, y_pred_chebyshev)\n",
        "print(\"치비셰프 거리 정확도: {}\".format(chebyshev_accuracy))"
      ],
      "metadata": {
        "colab": {
          "base_uri": "https://localhost:8080/"
        },
        "id": "qc-gyZhgtxhf",
        "outputId": "5d1c20aa-3af1-4e1e-f890-4ba2525904f4"
      },
      "execution_count": 19,
      "outputs": [
        {
          "output_type": "stream",
          "name": "stdout",
          "text": [
            "유클리드 거리 정확도: 1.0\n",
            "맨해튼 거리 정확도: 1.0\n",
            "민코우스키 거리 (p=3) 정확도: 1.0\n",
            "치비셰프 거리 정확도: 1.0\n"
          ]
        }
      ]
    },
    {
      "cell_type": "markdown",
      "source": [
        "#### 결과\n"
      ],
      "metadata": {
        "id": "P5RzIJGmwyz-"
      }
    },
    {
      "cell_type": "code",
      "source": [
        "# library & data\n",
        "import numpy as np # 연산 처리\n",
        "from sklearn import metrics # 평가\n",
        "import matplotlib.pyplot as plt # 시각화\n",
        "import pandas as pd # 데이터 조작"
      ],
      "metadata": {
        "id": "NVC7JkBvx-Gb"
      },
      "execution_count": 20,
      "outputs": []
    },
    {
      "cell_type": "code",
      "source": [
        "# column(feature, attribute...) of dataset\n",
        "# names = ['sepal-lenght', 'sepal-width', 'petal-length', 'petal-width', 'Class']\n",
        "dataset = pd.read_csv('/content/dmu_data/iris.csv') # 데이터셋의 열 이름 설정 (, names=names)\n",
        "\n",
        "X = dataset.iloc[:, :-1].values # 열을 뒤에서 하나를 뺀 값을 가져와 X에 저장, 종속 변수 저장\n",
        "y = dataset.iloc[:, 4].values  # 열을 앞에서 다섯 번째 값만 가져와서 y에 저장\n",
        "\n",
        "# 데이터셋 분리\n",
        "from sklearn.model_selection import train_test_split\n",
        "X_train, X_test, y_train, y_test = train_test_split(X, y, test_size=0.20)"
      ],
      "metadata": {
        "id": "43WgEz0it14f"
      },
      "execution_count": 21,
      "outputs": []
    },
    {
      "cell_type": "code",
      "source": [
        "# 데이터 정규화\n",
        "\n",
        "# StandardScaler 적용\n",
        "from sklearn.preprocessing import StandardScaler\n",
        "scaler_standard = StandardScaler()\n",
        "X_train_standard = scaler_standard.fit_transform(X_train)\n",
        "X_test_standard = scaler_standard.transform(X_test)\n",
        "\n",
        "# MinMaxScaler 적용\n",
        "from sklearn.preprocessing import MinMaxScaler\n",
        "scaler_minmax = MinMaxScaler()\n",
        "X_train_minmax = scaler_minmax.fit_transform(X_train)\n",
        "X_test_minmax = scaler_minmax.transform(X_test)"
      ],
      "metadata": {
        "id": "QyuWZP4gyEL5"
      },
      "execution_count": 22,
      "outputs": []
    },
    {
      "cell_type": "code",
      "source": [
        "# 차원 축소\n",
        "from sklearn.decomposition import PCA\n",
        "pca = PCA(n_components=2)\n",
        "X_train_standard_pca = pca.fit_transform(X_train_standard)\n",
        "X_test_standard_pca = pca.transform(X_test_standard)\n",
        "\n",
        "X_train_minmax_pca = pca.fit_transform(X_train_minmax)\n",
        "X_test_minmax_pca = pca.transform(X_test_minmax)"
      ],
      "metadata": {
        "id": "_K-RBxNHyO8l"
      },
      "execution_count": 23,
      "outputs": []
    },
    {
      "cell_type": "code",
      "source": [
        "# KNN 모델 생성 및 훈련\n",
        "from sklearn.neighbors import KNeighborsClassifier\n",
        "from sklearn.model_selection import cross_val_score\n",
        "\n",
        "# 교차 검증으로 최적의 k 값 찾기\n",
        "k_values = [1, 5, 10, 20, 30]\n",
        "\n",
        "# StandardScaler에 대해 교차 검증\n",
        "best_k_standard = 0\n",
        "best_score_standard = 0\n",
        "for k in k_values:\n",
        "    knn = KNeighborsClassifier(n_neighbors=k)\n",
        "    scores = cross_val_score(knn, X_train_standard_pca, y_train, cv=5)\n",
        "    mean_score = scores.mean()\n",
        "\n",
        "    if mean_score > best_score_standard:\n",
        "        best_score_standard = mean_score\n",
        "        best_k_standard = k\n",
        "\n",
        "print(f\"StandardScaler 최적의 k 값: {best_k_standard}, 교차 검증 정확도: {best_score_standard:.4f}\")\n",
        "\n",
        "# MinMaxScaler에 대해 교차 검증\n",
        "best_k_minmax = 0\n",
        "best_score_minmax = 0\n",
        "for k in k_values:\n",
        "    knn = KNeighborsClassifier(n_neighbors=k)\n",
        "    scores = cross_val_score(knn, X_train_minmax_pca, y_train, cv=5)\n",
        "    mean_score = scores.mean()\n",
        "\n",
        "    if mean_score > best_score_minmax:\n",
        "        best_score_minmax = mean_score\n",
        "        best_k_minmax = k\n",
        "\n",
        "print(f\"MinMaxScaler 최적의 k 값: {best_k_minmax}, 교차 검증 정확도: {best_score_minmax:.4f}\")\n"
      ],
      "metadata": {
        "colab": {
          "base_uri": "https://localhost:8080/"
        },
        "id": "GhzNfcSHyTEU",
        "outputId": "52a602ce-614b-4939-97c4-ea9d578cd3af"
      },
      "execution_count": 24,
      "outputs": [
        {
          "output_type": "stream",
          "name": "stdout",
          "text": [
            "StandardScaler 최적의 k 값: 5, 교차 검증 정확도: 0.9250\n",
            "MinMaxScaler 최적의 k 값: 20, 교차 검증 정확도: 0.9500\n"
          ]
        }
      ]
    },
    {
      "cell_type": "code",
      "source": [
        "# 최적의 정규화 방법 선택 및 최종 모델 훈련\n",
        "from sklearn.metrics import accuracy_score\n",
        "\n",
        "if best_score_standard > best_score_minmax:\n",
        "    print(\"StandardScaler가 더 좋은 성능\")\n",
        "    knn_final = KNeighborsClassifier(n_neighbors=best_k_standard)\n",
        "    knn_final.fit(X_train_standard_pca, y_train)\n",
        "    X_test_final = X_test_standard_pca\n",
        "else:\n",
        "    print(\"MinMaxScaler가 더 좋은 성능\")\n",
        "    knn_final = KNeighborsClassifier(n_neighbors=best_k_minmax)\n",
        "    knn_final.fit(X_train_minmax_pca, y_train)\n",
        "    X_test_final = X_test_minmax_pca\n"
      ],
      "metadata": {
        "colab": {
          "base_uri": "https://localhost:8080/"
        },
        "id": "4byXF4NZybLl",
        "outputId": "a07c54a0-277c-4c54-a98c-eb40b9e9cbe1"
      },
      "execution_count": 25,
      "outputs": [
        {
          "output_type": "stream",
          "name": "stdout",
          "text": [
            "MinMaxScaler가 더 좋은 성능\n"
          ]
        }
      ]
    },
    {
      "cell_type": "code",
      "source": [
        "# 최종 테스트 데이터에서 성능 평가\n",
        "y_pred = knn_final.predict(X_test_final)\n",
        "final_accuracy = accuracy_score(y_test, y_pred)\n",
        "print(f\"최종 테스트 데이터에서의 정확도: {final_accuracy:.4f}\")"
      ],
      "metadata": {
        "colab": {
          "base_uri": "https://localhost:8080/"
        },
        "id": "feqmtGBSykCC",
        "outputId": "89deb91a-bed3-493e-9138-023cf532f2c3"
      },
      "execution_count": 26,
      "outputs": [
        {
          "output_type": "stream",
          "name": "stdout",
          "text": [
            "최종 테스트 데이터에서의 정확도: 0.9333\n"
          ]
        }
      ]
    }
  ]
}
