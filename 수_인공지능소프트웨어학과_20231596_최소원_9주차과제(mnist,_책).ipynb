{
  "nbformat": 4,
  "nbformat_minor": 0,
  "metadata": {
    "colab": {
      "provenance": [],
      "toc_visible": true,
      "include_colab_link": true
    },
    "kernelspec": {
      "name": "python3",
      "display_name": "Python 3"
    },
    "language_info": {
      "name": "python"
    }
  },
  "cells": [
    {
      "cell_type": "markdown",
      "metadata": {
        "id": "view-in-github",
        "colab_type": "text"
      },
      "source": [
        "<a href=\"https://colab.research.google.com/github/thdnjs0730/2024_Deep/blob/main/%EC%88%98_%EC%9D%B8%EA%B3%B5%EC%A7%80%EB%8A%A5%EC%86%8C%ED%94%84%ED%8A%B8%EC%9B%A8%EC%96%B4%ED%95%99%EA%B3%BC_20231596_%EC%B5%9C%EC%86%8C%EC%9B%90_9%EC%A3%BC%EC%B0%A8%EA%B3%BC%EC%A0%9C(mnist%2C_%EC%B1%85).ipynb\" target=\"_parent\"><img src=\"https://colab.research.google.com/assets/colab-badge.svg\" alt=\"Open In Colab\"/></a>"
      ]
    },
    {
      "cell_type": "markdown",
      "source": [
        "MNIST 데이터셋을 활용한 분류예측 모델"
      ],
      "metadata": {
        "id": "LDDa0A3QP7UB"
      }
    },
    {
      "cell_type": "code",
      "source": [
        "import tensorflow as tf\n",
        "from tensorflow.keras.datasets import mnist\n",
        "from tensorflow.keras.models import Sequential\n",
        "from tensorflow.keras.layers import Conv2D, MaxPooling2D, Flatten, Dense\n",
        "\n",
        "# 데이터 불러오기 및 전처리\n",
        "(x_train, y_train), (x_test, y_test) = mnist.load_data()\n",
        "x_train = x_train.reshape(-1, 28, 28, 1) / 255.0  # 입력 이미지 정규화\n",
        "x_test = x_test.reshape(-1, 28, 28, 1) / 255.0     # 테스트 이미지 정규화\n",
        "y_train = tf.keras.utils.to_categorical(y_train, num_classes=10)  # 원-핫 인코딩\n",
        "y_test = tf.keras.utils.to_categorical(y_test, num_classes=10)    # 원-핫 인코딩\n",
        "\n",
        "# CNN 모델 구성\n",
        "model = Sequential()\n",
        "model.add(Conv2D(32, (3, 3), activation='relu', input_shape=(28, 28, 1)))  # Conv2D + ReLU 활성화\n",
        "model.add(MaxPooling2D((2, 2)))  # MaxPooling으로 이미지 크기 축소\n",
        "model.add(Conv2D(64, (3, 3), activation='relu'))  # 두 번째 Conv2D 레이어\n",
        "model.add(MaxPooling2D((2, 2)))  # 두 번째 MaxPooling\n",
        "\n",
        "model.add(Flatten())  # 다차원 데이터를 1차원으로 변환\n",
        "model.add(Dense(64, activation='relu'))  # 완전 연결 레이어\n",
        "model.add(Dense(10, activation='softmax'))  # 출력 레이어 (10개 클래스)\n",
        "\n",
        "# 모델 컴파일\n",
        "model.compile(optimizer='adam',\n",
        "              loss='categorical_crossentropy',\n",
        "              metrics=['accuracy'])  # 모델 평가 지표로 정확도 설정\n",
        "\n",
        "# 모델 학습\n",
        "model.fit(x_train, y_train, batch_size=64, epochs=10, validation_data=(x_test, y_test))  # 학습 진행\n",
        "\n",
        "# 모델 평가\n",
        "loss, accuracy = model.evaluate(x_test, y_test)\n",
        "print(\"Test Loss:\", loss)\n",
        "print(\"Test Accuracy:\", accuracy)\n"
      ],
      "metadata": {
        "colab": {
          "base_uri": "https://localhost:8080/"
        },
        "id": "hibzis-rN1lc",
        "outputId": "fbbfbe5f-8a45-4978-bd57-003db6f3ecff"
      },
      "execution_count": null,
      "outputs": [
        {
          "output_type": "stream",
          "name": "stdout",
          "text": [
            "Downloading data from https://storage.googleapis.com/tensorflow/tf-keras-datasets/mnist.npz\n",
            "11490434/11490434 [==============================] - 0s 0us/step\n",
            "Epoch 1/10\n",
            "938/938 [==============================] - 37s 38ms/step - loss: 0.1900 - accuracy: 0.9427 - val_loss: 0.0577 - val_accuracy: 0.9824\n",
            "Epoch 2/10\n",
            "938/938 [==============================] - 35s 38ms/step - loss: 0.0552 - accuracy: 0.9827 - val_loss: 0.0438 - val_accuracy: 0.9858\n",
            "Epoch 3/10\n",
            "938/938 [==============================] - 36s 38ms/step - loss: 0.0396 - accuracy: 0.9878 - val_loss: 0.0303 - val_accuracy: 0.9897\n",
            "Epoch 4/10\n",
            "938/938 [==============================] - 37s 39ms/step - loss: 0.0297 - accuracy: 0.9906 - val_loss: 0.0353 - val_accuracy: 0.9887\n",
            "Epoch 5/10\n",
            "938/938 [==============================] - 35s 37ms/step - loss: 0.0234 - accuracy: 0.9928 - val_loss: 0.0332 - val_accuracy: 0.9898\n",
            "Epoch 6/10\n",
            "938/938 [==============================] - 36s 38ms/step - loss: 0.0174 - accuracy: 0.9945 - val_loss: 0.0369 - val_accuracy: 0.9889\n",
            "Epoch 7/10\n",
            "938/938 [==============================] - 35s 37ms/step - loss: 0.0143 - accuracy: 0.9951 - val_loss: 0.0396 - val_accuracy: 0.9882\n",
            "Epoch 8/10\n",
            "938/938 [==============================] - 35s 37ms/step - loss: 0.0117 - accuracy: 0.9962 - val_loss: 0.0381 - val_accuracy: 0.9901\n",
            "Epoch 9/10\n",
            "938/938 [==============================] - 35s 37ms/step - loss: 0.0097 - accuracy: 0.9970 - val_loss: 0.0349 - val_accuracy: 0.9902\n",
            "Epoch 10/10\n",
            "938/938 [==============================] - 35s 37ms/step - loss: 0.0091 - accuracy: 0.9969 - val_loss: 0.0261 - val_accuracy: 0.9921\n",
            "313/313 [==============================] - 2s 6ms/step - loss: 0.0261 - accuracy: 0.9921\n",
            "Test Loss: 0.02608633041381836\n",
            "Test Accuracy: 0.9921000003814697\n"
          ]
        }
      ]
    }
  ]
}